{
 "cells": [
  {
   "cell_type": "code",
   "execution_count": null,
   "metadata": {},
   "outputs": [],
   "source": [
    "# Assignment 2\n",
    "# Name: Sumit Kumar Tapa\n",
    "# Reg No: 24-14-18\n",
    "# Programme: M Tech Modeling and Simulation"
   ]
  },
  {
   "cell_type": "code",
   "execution_count": 1,
   "metadata": {},
   "outputs": [
    {
     "name": "stdout",
     "output_type": "stream",
     "text": [
      "Q1, a\n",
      "[ 0  1  2  3  4  5  6  7  8  9 10 11 12 13 14 15 16 17 18 19 20 21 22 23\n",
      " 24 25 26 27 28 29 30] \n",
      "shape:  (31,)\n",
      "\n",
      "Q1, b\n",
      "[[ 0  1  2  3  4  5  6  7]\n",
      " [ 8  9 10 11 12 13 14 15]\n",
      " [16 17 18 19 20 21 22 23]\n",
      " [24 25 26 27 28 29 30  0]] \n",
      "shape:  (4, 8)\n",
      "\n",
      "Q1, c\n",
      "[[[ 0  1  2  3]\n",
      "  [ 4  5  6  7]\n",
      "  [ 8  9 10 11]\n",
      "  [12 13 14 15]]\n",
      "\n",
      " [[16 17 18 19]\n",
      "  [20 21 22 23]\n",
      "  [24 25 26 27]\n",
      "  [28 29 30  0]]] \n",
      "shape:  (2, 4, 4)\n"
     ]
    }
   ],
   "source": [
    "# Q1\n",
    "\n",
    "import numpy as np\n",
    "\n",
    "#a\n",
    "print(\"Q1, a\")\n",
    "var1 = np.arange(31)\n",
    "print(var1, \"\\nshape: \",  var1.shape)\n",
    "\n",
    "#b\n",
    "print(\"\\nQ1, b\")\n",
    "var2 = np.concatenate((var1, np.array([0]))).reshape(4,8)\n",
    "print(var2, \"\\nshape: \", var2.shape)\n",
    "\n",
    "#c\n",
    "print(\"\\nQ1, c\")\n",
    "var3 = var2.reshape(2,4,4)\n",
    "print(var3, \"\\nshape: \", var3.shape)"
   ]
  },
  {
   "cell_type": "code",
   "execution_count": 2,
   "metadata": {},
   "outputs": [
    {
     "name": "stdout",
     "output_type": "stream",
     "text": [
      "\n",
      "Q1, d\n",
      "var1:  [ 0  1  2  3  4  5  6  7  8  9 10 11 12 13 14 15 16 17 18 19 20 21 22 23\n",
      " 24 25 26 27 28 29 30] \n",
      "var2:  [[ 0  1  2  3  4  5  6  7]\n",
      " [-1  9 10 11 12 13 14 15]\n",
      " [16 17 18 19 20 21 22 23]\n",
      " [24 25 26 27 28 29 30  0]] \n",
      "var3:  [[[ 0  1  2  3]\n",
      "  [ 4  5  6  7]\n",
      "  [-1  9 10 11]\n",
      "  [12 13 14 15]]\n",
      "\n",
      " [[16 17 18 19]\n",
      "  [20 21 22 23]\n",
      "  [24 25 26 27]\n",
      "  [28 29 30  0]]]\n",
      "\n",
      "Var1 is not changed. Var3 has changed.\n",
      "Reshape returns a view of numpy array\n"
     ]
    }
   ],
   "source": [
    "#d\n",
    "print(\"\\nQ1, d\")\n",
    "var2[1][0] = -1\n",
    "print(\"var1: \", var1, \"\\nvar2: \", var2, \"\\nvar3: \", var3)\n",
    "print(\"\\nVar1 is not changed. Var3 has changed.\\nReshape returns a view of numpy array\")\n"
   ]
  },
  {
   "cell_type": "code",
   "execution_count": 3,
   "metadata": {},
   "outputs": [
    {
     "name": "stdout",
     "output_type": "stream",
     "text": [
      "\n",
      "Q1, e\n",
      "sum over 2nd dimension:  [[15 28 32 36]\n",
      " [88 92 96 69]]\n",
      "sum over 3rd dimension:  [[  6  22  29  54]\n",
      " [ 70  86 102  87]]\n",
      "sum over 1st and 3rd dimension:  [ 76 108 131 141]\n",
      "\n",
      "Q1, f\n",
      "var2 second row: [-1  9 10 11 12 13 14 15]\n",
      "var2_last_column:  [ 7 15 23  0]\n",
      "var2_sub_matrix:  [[ 0  1]\n",
      " [-1  9]]\n"
     ]
    }
   ],
   "source": [
    "#e\n",
    "print(\"\\nQ1, e\")\n",
    "print(\"sum over 2nd dimension: \", np.sum(var3, axis=1))\n",
    "print(\"sum over 3rd dimension: \", np.sum(var3, axis=2))\n",
    "print(\"sum over 1st and 3rd dimension: \", np.sum(var3, axis=(0,2)))\n",
    "\n",
    "#f\n",
    "print(\"\\nQ1, f\")\n",
    "var2_second_row = var2[1, :]\n",
    "print(\"var2 second row:\", var2_second_row)\n",
    "\n",
    "var2_last_column = var2[:, -1]\n",
    "print(\"var2_last_column: \", var2_last_column)\n",
    "\n",
    "var2_sub_matrix = var2[0:2, 0:2]\n",
    "print(\"var2_sub_matrix: \", var2_sub_matrix)"
   ]
  },
  {
   "cell_type": "code",
   "execution_count": 4,
   "metadata": {},
   "outputs": [
    {
     "name": "stdout",
     "output_type": "stream",
     "text": [
      "\n",
      "Q2, a\n",
      "[ 1  2  3  4  5  6  7  8  9 10]\n",
      "\n",
      "Q2, b\n",
      "[[ 0  1  2  3  4  5  6  7  8  9]\n",
      " [ 1  2  3  4  5  6  7  8  9 10]\n",
      " [ 2  3  4  5  6  7  8  9 10 11]\n",
      " [ 3  4  5  6  7  8  9 10 11 12]\n",
      " [ 4  5  6  7  8  9 10 11 12 13]\n",
      " [ 5  6  7  8  9 10 11 12 13 14]\n",
      " [ 6  7  8  9 10 11 12 13 14 15]\n",
      " [ 7  8  9 10 11 12 13 14 15 16]\n",
      " [ 8  9 10 11 12 13 14 15 16 17]\n",
      " [ 9 10 11 12 13 14 15 16 17 18]]\n",
      "\n",
      "Q2, c\n",
      "dataset with 50 examples:  (50, 5)\n",
      "\n",
      "Q2, e\n",
      "mean:  [1.17605605 2.09684506 1.55661865 1.42500886 1.83549915]\n",
      "standard deviation:  [1.38553188 2.83799906 2.1310474  1.46556288 2.73781468]\n",
      "\n",
      "Q2, f\n",
      "normalized mean:  [ 2.22044605e-18 -2.88657986e-17  2.22044605e-18 -8.65973959e-17\n",
      " -1.93178806e-16]\n",
      "normalized std deviation:  [1. 1. 1. 1. 1.]\n"
     ]
    }
   ],
   "source": [
    "#Q2\n",
    "\n",
    "#a\n",
    "print(\"\\nQ2, a\")\n",
    "vect1 = np.arange(0,10)\n",
    "vect2 = vect1 + 1\n",
    "print(vect2)\n",
    "\n",
    "#b\n",
    "print(\"\\nQ2, b\")\n",
    "\n",
    "vect3 = np.arange(0)\n",
    "for i in range(10):\n",
    "    vect3 = np.concatenate((vect3, vect1+i))\n",
    "\n",
    "vect3 = vect3.reshape(10,10)\n",
    "print(vect3)\n",
    "\n",
    "#c\n",
    "print(\"\\nQ2, c\")\n",
    "import numpy.random as npr\n",
    "dataset1 = np.exp(npr.randn(50, 5))\n",
    "print(\"dataset with 50 examples: \", dataset1.shape)\n",
    "\n",
    "#e\n",
    "print(\"\\nQ2, e\")\n",
    "dataset1_mean = np.sum(dataset1, axis=0)/50\n",
    "print(\"mean: \", dataset1_mean)\n",
    "\n",
    "dataset1_std = np.std(dataset1, axis=0)\n",
    "print(\"standard deviation: \", dataset1_std)\n",
    "\n",
    "#f\n",
    "print(\"\\nQ2, f\")\n",
    "normalized = dataset1 - dataset1_mean\n",
    "normalized = normalized / dataset1_std\n",
    "print(\"normalized mean: \",np.sum(normalized, axis=0)/50)\n",
    "print(\"normalized std deviation: \", np.std(normalized, axis=0))"
   ]
  },
  {
   "cell_type": "code",
   "execution_count": 8,
   "metadata": {},
   "outputs": [
    {
     "name": "stdout",
     "output_type": "stream",
     "text": [
      "\n",
      "Q3, a\n",
      "[[          1           1           1           1           1           1\n",
      "            1           1           1           1           1           1]\n",
      " [          1           2           4           8          16          32\n",
      "           64         128         256         512        1024        2048]\n",
      " [          1           3           9          27          81         243\n",
      "          729        2187        6561       19683       59049      177147]\n",
      " [          1           4          16          64         256        1024\n",
      "         4096       16384       65536      262144     1048576     4194304]\n",
      " [          1           5          25         125         625        3125\n",
      "        15625       78125      390625     1953125     9765625    48828125]\n",
      " [          1           6          36         216        1296        7776\n",
      "        46656      279936     1679616    10077696    60466176   362797056]\n",
      " [          1           7          49         343        2401       16807\n",
      "       117649      823543     5764801    40353607   282475249  1977326743]\n",
      " [          1           8          64         512        4096       32768\n",
      "       262144     2097152    16777216   134217728  1073741824           0]\n",
      " [          1           9          81         729        6561       59049\n",
      "       531441     4782969    43046721   387420489  -808182895  1316288537]\n",
      " [          1          10         100        1000       10000      100000\n",
      "      1000000    10000000   100000000  1000000000  1410065408  1215752192]\n",
      " [          1          11         121        1331       14641      161051\n",
      "      1771561    19487171   214358881 -1937019605   167620825  1843829075]\n",
      " [          1          12         144        1728       20736      248832\n",
      "      2985984    35831808   429981696   864813056  1787822080   -20971520]]\n"
     ]
    }
   ],
   "source": [
    "#Q3\n",
    "\n",
    "def vandermonde(N):\n",
    "    vec = np.arange(N) + 1\n",
    "\n",
    "    vander = np.power(vec[:, None], np.arange(N))\n",
    "    return vander\n",
    "\n",
    "#a\n",
    "print(\"\\nQ3, a\")\n",
    "vander = vandermonde(12)\n",
    "print(vander)\n"
   ]
  },
  {
   "cell_type": "code",
   "execution_count": 9,
   "metadata": {},
   "outputs": [
    {
     "name": "stdout",
     "output_type": "stream",
     "text": [
      "\n",
      "Q3, b\n",
      "b:  [1.20000000e+01 4.09500000e+03 2.65720000e+05 5.59240500e+06\n",
      " 6.10351560e+07 4.35356467e+08 2.30688120e+09 1.22713351e+09\n",
      " 9.43953692e+08 3.73692871e+09 3.10225064e+08 3.10073456e+09]\n",
      "\n",
      "Q3, c\n",
      "[0.99620819 1.00462723 0.99909973 1.00006104 0.99999666 1.00000048\n",
      " 0.99999995 1.         1.         1.         1.         1.        ]\n",
      "There is difference than what is expected.\n",
      "Since we know x is of ones, it is expected, but have got only few values as 1 (or approximate 1)\n",
      "\n",
      "Q3, d\n",
      "[0.99998827 1.00002951 0.99997139 1.00001427 0.99999595 1.00000068\n",
      " 0.99999993 1.         1.         1.         1.         1.        ]\n"
     ]
    }
   ],
   "source": [
    "#b\n",
    "print(\"\\nQ3, b\")\n",
    "x = np.ones(12)\n",
    "b = np.dot(vander, x)\n",
    "print(\"b: \", b)\n",
    "\n",
    "#c\n",
    "print(\"\\nQ3, c\")\n",
    "v = np.linalg.inv(vander)\n",
    "res1 = np.dot(v, b)\n",
    "print(res1)\n",
    "print(\"\"\"There is difference than what is expected.\n",
    "Since we know x is of ones, it is expected, but have got only few values as 1 (or approximate 1)\"\"\")\n",
    "\n",
    "#d\n",
    "print(\"\\nQ3, d\")\n",
    "res2 = np.linalg.solve(vander, b)\n",
    "print(res2)"
   ]
  },
  {
   "cell_type": "code",
   "execution_count": null,
   "metadata": {},
   "outputs": [],
   "source": []
  }
 ],
 "metadata": {
  "kernelspec": {
   "display_name": "Python 3 (ipykernel)",
   "language": "python",
   "name": "python3"
  },
  "language_info": {
   "codemirror_mode": {
    "name": "ipython",
    "version": 3
   },
   "file_extension": ".py",
   "mimetype": "text/x-python",
   "name": "python",
   "nbconvert_exporter": "python",
   "pygments_lexer": "ipython3",
   "version": "3.12.4"
  }
 },
 "nbformat": 4,
 "nbformat_minor": 4
}
